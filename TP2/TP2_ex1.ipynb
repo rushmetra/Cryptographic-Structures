{
 "cells": [
  {
   "cell_type": "markdown",
   "id": "b215eed5",
   "metadata": {},
   "source": [
    "# Trabalho Prático 2 - Estruturas Criptográficas\n",
    "## Mestrado em Engenharia Informática\n",
    "### 28 de Março de 2023\n",
    "\n",
    "Grupo 13, constituído por:\n",
    "+ Rodrigo Pires Rodrigues, PG50726\n",
    "+ Rui Guilherme Monteiro, PG50739\n",
    "\n",
    "# Exercício 1\n",
    "1. Construir uma classe Python que implemente um KEM - ElGamal. A classe deve:\n",
    "    1. Inicializar cada instância recebendo  o parâmetro de segurança (tamanho em bits da ordem do grupo cíclico) e gere as chaves pública e privada.\n",
    "    2. Conter funções para encapsulamento e revelação da chave gerada.\n",
    "    3. Construir,  a partir deste KEM e usando a transformação de Fujisaki-Okamoto, um PKE que seja IND-CCA seguro.\n"
   ]
  },
  {
   "cell_type": "markdown",
   "id": "63b6aa37",
   "metadata": {},
   "source": [
    "## Imports\n",
    "\n",
    "São importados os vários módulos necessários para o funcionamento do programa."
   ]
  },
  {
   "cell_type": "code",
   "execution_count": 1,
   "id": "e79737f7",
   "metadata": {},
   "outputs": [],
   "source": [
    "import os\n",
    "from cryptography.hazmat.primitives.kdf.pbkdf2 import PBKDF2HMAC\n",
    "from cryptography.hazmat.primitives import hashes\n",
    "from cryptography.hazmat.primitives.ciphers.aead import AESGCM\n",
    "from sage.all import *\n",
    "import hashlib\n",
    "import hmac"
   ]
  },
  {
   "cell_type": "markdown",
   "id": "933cb4c9",
   "metadata": {},
   "source": [
    "# Estrutura geral\n",
    "O código é dividido em três classes: KEM_ElGamal, PKE_FO (criptografia de chave pública usando a transformação de Fujisaki-Okamoto) e uma função principal main().\n",
    "\n"
   ]
  },
  {
   "cell_type": "markdown",
   "id": "0f598217",
   "metadata": {},
   "source": [
    "## Função get_random_prime\n",
    "\n",
    "Utilizada para receber um número primo aleatório que será usada pela class \"KEM_ElGamal\"."
   ]
  },
  {
   "cell_type": "code",
   "execution_count": 2,
   "id": "67dbbf48",
   "metadata": {},
   "outputs": [],
   "source": [
    "def get_random_prime(lower_bound, upper_bound):\n",
    "    return random_prime(upper_bound - 1, lbound=lower_bound)"
   ]
  },
  {
   "cell_type": "markdown",
   "id": "c8477a94",
   "metadata": {},
   "source": [
    "## Classe KEM_ElGamal (key encapsulation mechanism)\n",
    "\n",
    "A classe KEM_ElGamal implementa o algoritmo de criptografia de chave pública ElGamal para encapsular uma chave assimétrica, baseado na troca de chaves Diffie-Hellman. A chave privada é gerada aleatoriamente e a chave pública é composta por três parâmetros: um primo p, um gerador g e y = g^x (mod p), onde x é a chave privada. O método encaps() gera uma chave de sessão aleatória, realiza o cálculo de r e s = h^(xr) (mod p), onde h é o valor y recebido como chave pública, e retorna um par (s, c1), onde c1 = g^r (mod p). O método decaps() recebe como entrada um par (s, c1) e calcula a chave de sessão a partir da chave privada e de c1."
   ]
  },
  {
   "cell_type": "code",
   "execution_count": 3,
   "id": "f419f2a6",
   "metadata": {},
   "outputs": [],
   "source": [
    "class KEM_ElGamal:\n",
    "    def __init__(self, param):\n",
    "        self.p = get_random_prime(2**(param-1), 2**param)\n",
    "        self.g = primitive_root(self.p)\n",
    "        self.x = randint(1, self.p-1)\n",
    "        self.y = pow(self.g, self.x, self.p)\n",
    "        self.param = param\n",
    "        # Public key: (p, g, y)\n",
    "        self.public_key = (self.p, self.g, self.y)\n",
    "        # Private key: x\n",
    "        self.private_key = self.x\n",
    "\n",
    "    def encaps(self, pub_key):\n",
    "        p, g, h = pub_key\n",
    "        # r < p-1\n",
    "        r = ZZ.random_element(p-1)\n",
    "        s = pow(h, self.private_key * r, p)\n",
    "        c1 = pow(g, r, p)\n",
    "        return (s, c1)\n",
    "\n",
    "    def decaps(self, ct):\n",
    "        s, c1 = ct\n",
    "        a = self.private_key\n",
    "        k = pow(c1, a, self.p)\n",
    "        k = k % self.p\n",
    "        return k"
   ]
  },
  {
   "cell_type": "markdown",
   "id": "39cce9f1",
   "metadata": {},
   "source": [
    "## Classe PKE_FO (Public Key Encryption)\n",
    "A classe PKE_FO implementa o esquema de criptografia de chave pública usando a transformação Fujisaki-Okamoto. O construtor recebe uma instância do KEM_ElGamal. O método encrypt() cifra uma mensagem usando o KEM_ElGamal e a transformação FO. \n",
    "\n",
    "Primeiramente, a chave de sessão é encapsulada usando o método encaps() do KEM. Em seguida, a chave é usada para derivar a chave AES-GCM e a chave de MAC. A mensagem é cifrada usando AES-GCM e o MAC é gerado usando a chave de MAC. O resultado final consiste numa tupla (kem_ct, ciphertext, mac, nonce), onde kem_ct é o resultado do encapsulamento da chave, ciphertext é o texto cifrado, mac é o valor do MAC e nonce é um valor aleatório usado para AES-GCM. O método decrypt() decifra uma mensagem usando a chave privada e a transformação Fujisaki-Okamoto. O método usa a chave privada do KEM para decapsular a chave de sessão, a qual é usada para derivar as chaves AES-GCM e de MAC. A mensagem é então descriptografada e o MAC é verificado. Se o MAC for válido, o método retorna o texto plano, caso contrário, uma exceção é gerada."
   ]
  },
  {
   "cell_type": "code",
   "execution_count": 4,
   "id": "a4939818",
   "metadata": {},
   "outputs": [],
   "source": [
    "class PKE_FO:\n",
    "    def __init__(self, kem):\n",
    "        self.kem = kem\n",
    "\n",
    "    def _hash(self, *args):\n",
    "        # Hash function used in the Fujisaki-Okamoto transform\n",
    "        h = hashlib.sha256()\n",
    "        for arg in args:\n",
    "            h.update(str(arg).encode('utf-8'))\n",
    "        return h.digest()\n",
    "\n",
    "    def encrypt(self, pub_key, msg):\n",
    "        # Encrypt a message using the Fujisaki-Okamoto transform\n",
    "        kem_pub_key = self.kem.public_key\n",
    "        # Encapsulate the symmetric key using the ElGamal ephemeral key pair\n",
    "        kem_ct = self.kem.encaps(pub_key)\n",
    "        shared_key = self.kem.decaps(kem_ct)\n",
    "        # Derive AES-GCM key and MAC key from the shared symmetric key\n",
    "        aes_key = self._hash(shared_key, 0)\n",
    "        mac_key = self._hash(shared_key, 1)\n",
    "        # Encrypt the message using AES-GCM\n",
    "        aes_gcm = AESGCM(aes_key)\n",
    "        nonce = os.urandom(12)\n",
    "        ciphertext = aes_gcm.encrypt(nonce, msg, None)\n",
    "        # Compute the MAC of the ciphertext\n",
    "        mac = hmac.new(mac_key, ciphertext, hashlib.sha256).digest()\n",
    "        # Combine the ElGamal ciphertext and the AES-GCM ciphertext and MAC\n",
    "        return (kem_ct, ciphertext, mac, nonce)\n",
    "\n",
    "\n",
    "    def decrypt(self, priv_key, ct):\n",
    "        # Decrypt a message using the Fujisaki-Okamoto transform\n",
    "        kem_ct, ciphertext, mac, nonce = ct\n",
    "        shared_key = self.kem.decaps(kem_ct)\n",
    "        aes_key = self._hash(shared_key, 0)\n",
    "        mac_key = self._hash(shared_key, 1)\n",
    "        aes_gcm = AESGCM(aes_key)\n",
    "        plaintext = aes_gcm.decrypt(nonce, ciphertext, None)\n",
    "        if hmac.compare_digest(mac, hmac.new(mac_key, ciphertext, hashlib.sha256).digest()):\n",
    "            return plaintext\n",
    "        else:\n",
    "            raise Exception(\"MAC verification failed\")\n"
   ]
  },
  {
   "cell_type": "markdown",
   "id": "72b51aed",
   "metadata": {},
   "source": [
    "## Main()\n",
    "\n",
    "A função principal main() cria duas instâncias do KEM_ElGamal para Alice e Bob e usa a instância de Alice para criar uma instância de PKE_FO. A chave pública de Alice é compartilhada com Bob. Bob criptografa uma mensagem usando a chave pública de Alice e envia o texto criptografado para Alice. Alice usa sua chave privada para descriptografar a mensagem e imprime o texto plano na tela."
   ]
  },
  {
   "cell_type": "code",
   "execution_count": 5,
   "id": "f02d39d0",
   "metadata": {},
   "outputs": [
    {
     "name": "stdout",
     "output_type": "stream",
     "text": [
      "Decrypted message: Enemy attacks tonight!\n"
     ]
    }
   ],
   "source": [
    "def main():\n",
    "    # Generate Alice and Bob's public and private keys\n",
    "    Bob_elgamal = KEM_ElGamal(128)\n",
    "    Alice_elgamal = KEM_ElGamal(128)\n",
    "\n",
    "    # Create PKE instance using Alice's KEM\n",
    "    alice_pke_fo = PKE_FO(Alice_elgamal)\n",
    "\n",
    "    # Alice shares her public key with Bob\n",
    "    alice_pub_key = Alice_elgamal.public_key\n",
    "\n",
    "    # Bob encrypts a message to Alice using Alice's public key\n",
    "    message = b\"Enemy attacks tonight!\"\n",
    "    ciphertext = alice_pke_fo.encrypt(alice_pub_key, message)\n",
    "\n",
    "    # Alice decrypts the message\n",
    "    plaintext = alice_pke_fo.decrypt(Alice_elgamal.private_key, ciphertext)\n",
    "\n",
    "    # Print the decrypted message\n",
    "    print(\"Decrypted message:\", plaintext.decode())    \n",
    "\n",
    "main()"
   ]
  }
 ],
 "metadata": {
  "kernelspec": {
   "display_name": "SageMath 9.8",
   "language": "sage",
   "name": "sagemath"
  },
  "language_info": {
   "codemirror_mode": {
    "name": "ipython",
    "version": 3
   },
   "file_extension": ".py",
   "mimetype": "text/x-python",
   "name": "python",
   "nbconvert_exporter": "python",
   "pygments_lexer": "ipython3",
   "version": "3.10.9"
  }
 },
 "nbformat": 4,
 "nbformat_minor": 5
}
