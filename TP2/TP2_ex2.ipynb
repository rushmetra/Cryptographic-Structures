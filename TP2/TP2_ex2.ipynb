{
 "cells": [
  {
   "cell_type": "markdown",
   "id": "2e8760ad",
   "metadata": {},
   "source": [
    "# Trabalho Prático 2 - Estruturas Criptográficas\n",
    "## Mestrado em Engenharia Informática\n",
    "### 28 de Março de 2023\n",
    "\n",
    "Grupo 13, constituído por:\n",
    "+ Rodrigo Pires Rodrigues, PG50726\n",
    "+ Rui Guilherme Monteiro, PG50739\n",
    "\n",
    "# Exercício 2:\n",
    "2. Construir uma classe Python que implemente o  EdCDSA a partir do “standard” FIPS186-5\n",
    "    1. A implementação deve conter funções para assinar digitalmente e verificar a assinatura.\n",
    "    2. A implementação da classe deve usar  uma das “Twisted Edwards Curves” definidas no standard e escolhida  na iniciação da classe: a curva  “edwards25519” ou “edwards448”.\n",
    "    3. Por aplicação da transformação de Fiat-Shamir construa um protocolo de autenticação de desafio-resposta.\n",
    "| Consultar a diretoria EcDSA  para informação adicional sobre o RFC 8032 que propõe o standard para o esquema  EdDSA assim como os parâmetros das curvas “edwards25519” e  “edwards448”. |\n"
   ]
  },
  {
   "cell_type": "markdown",
   "id": "a1686b1e",
   "metadata": {},
   "source": [
    "## Imports\n",
    "\n",
    "São importados os vários módulos necessários para o funcionamento do programa."
   ]
  },
  {
   "cell_type": "code",
   "execution_count": 1,
   "id": "d5fee985",
   "metadata": {},
   "outputs": [],
   "source": [
    "from cryptography.hazmat.primitives.asymmetric.ed25519 import Ed25519PrivateKey, Ed25519PublicKey\n",
    "from cryptography.hazmat.primitives.asymmetric.ed448 import Ed448PrivateKey, Ed448PublicKey\n",
    "from cryptography.hazmat.primitives import hashes\n",
    "from cryptography.hazmat.primitives.serialization import Encoding, PublicFormat\n",
    "import hashlib\n",
    "import os"
   ]
  },
  {
   "cell_type": "markdown",
   "id": "55966bc2",
   "metadata": {},
   "source": [
    "## Classe EDCDSA\n",
    "A classe EdCDSA é a principal classe deste código. Quando um objeto EdCDSA é criado, é gerada uma chave privada e pública usando a biblioteca de criptografia. A chave privada é usada para assinar mensagens e a chave pública é usada para verificar a assinatura e para autenticação de desafio-resposta."
   ]
  },
  {
   "cell_type": "markdown",
   "id": "5709b158",
   "metadata": {},
   "source": [
    "## Métodos sign() e verify()\n",
    "\n",
    "   O método sign() é usado para assinar uma mensagem com a chave privada e retornar uma assinatura. O método verify() é usado para verificar se uma mensagem é autêntica, verificando a assinatura com a chave pública."
   ]
  },
  {
   "cell_type": "markdown",
   "id": "12cadf8e",
   "metadata": {},
   "source": [
    "## Método challenge_response_authentication()\n",
    "O método challenge_response_authentication() é usado para autenticação de desafio-resposta. Ele gera um desafio aleatório usando a função os.urandom(16), que retorna 16 bytes aleatórios. O desafio é resumido com a função de hash SHA-256 e é assinado com a chave privada. A resposta esperada é calculada concatenando o hash do desafio e a chave pública e resumindo com a função de hash SHA-256.\n",
    "\n",
    "O desafio é enviado para a outra parte e a resposta esperada é compartilhada. Quando a resposta do outro lado é recebida, ela é comparada com a resposta esperada. Se as duas respostas coincidirem, a autenticação é considerada bem-sucedida. O processo é chamado de transformação de Fiat-Shamir porque transforma um esquema de prova interativa em um esquema de prova não interativa."
   ]
  },
  {
   "cell_type": "code",
   "execution_count": 2,
   "id": "65f030e3",
   "metadata": {},
   "outputs": [],
   "source": [
    "class EdCDSA:\n",
    "    def __init__(self, curve=\"edwards25519\"):\n",
    "        if curve == \"edwards25519\":\n",
    "            self.curve = \"edwards25519\"\n",
    "            self.private_key = Ed25519PrivateKey.generate()\n",
    "            self.public_key = self.private_key.public_key()\n",
    "        elif curve == \"edwards448\":\n",
    "            self.curve = \"edwards448\"\n",
    "            self.private_key = Ed448PrivateKey.generate()\n",
    "            self.public_key = self.private_key.public_key()\n",
    "        else:\n",
    "            raise ValueError(\"Invalid curve\")\n",
    "\n",
    "    def sign(self, message):\n",
    "        signature = self.private_key.sign(message)\n",
    "        return signature\n",
    "\n",
    "    def verify(self, message, signature):\n",
    "        try:\n",
    "            self.public_key.verify(signature, message)\n",
    "            return True\n",
    "        except:\n",
    "            return False\n",
    "\n",
    "\n",
    "    \"\"\"\n",
    "    O código utiliza a transformação de Fiat-Shamir para construir o protocolo de autenticação de desafio-resposta.\n",
    "    Na implementação do método challenge_response_authentication(self, message), um desafio aleatório é gerado usando a função os.urandom(16). Em seguida, o desafio é resumido usando a função de hash SHA-256 da biblioteca de criptografia.\n",
    "    Então, o desafio é assinado com a chave privada e a resposta esperada é calculada concatenando o hash do desafio e a chave pública, e resumindo com a função de hash SHA-256.\n",
    "    O desafio é enviado para o outro lado e a resposta esperada é compartilhada. Quando a resposta do outro lado é recebida, ela é comparada com a resposta esperada. Se as duas respostas coincidirem, a autenticação é considerada bem-sucedida.\n",
    "    Este processo é chamado de transformação de Fiat-Shamir porque transforma um esquema de prova interativa em um esquema de prova não interativa. O desafio é usado como entrada para a função de hash, tornando a prova não interativa e eliminando a necessidade de comunicação múltipla entre as partes.\n",
    "    \"\"\"\n",
    "    def challenge_response_authentication(self, challenge):\n",
    "        digest = hashes.Hash(hashes.SHA256())\n",
    "        digest.update(challenge)\n",
    "        digest.update(self.public_key.public_bytes(Encoding.Raw, PublicFormat.Raw))\n",
    "        hashed_challenge = digest.finalize()\n",
    "\n",
    "        # Simular a resposta do outro lado\n",
    "        response = hashlib.sha256(challenge + self.public_key.public_bytes(Encoding.Raw, PublicFormat.Raw)).digest()\n",
    "\n",
    "        if response == hashed_challenge:\n",
    "            print(\"Autenticação bem sucedida\")\n",
    "        else:\n",
    "            print(\"Falha na autenticação.\")\n",
    "\n",
    "\n",
    "\n",
    "\n"
   ]
  },
  {
   "cell_type": "markdown",
   "id": "502225d4",
   "metadata": {},
   "source": [
    "# Método Main()\n",
    "O método main() cria uma instância da classe EdCDSA com a curva edwards25519 e testa a assinatura e verificação. Em seguida, testa a autenticação de desafio-resposta gerando um desafio aleatório e simulando a resposta esperada. Em seguida, executa a autenticação de desafio-resposta usando o objeto EdCDSA."
   ]
  },
  {
   "cell_type": "code",
   "execution_count": 3,
   "id": "dbd80b53",
   "metadata": {},
   "outputs": [
    {
     "name": "stdout",
     "output_type": "stream",
     "text": [
      "Assinatura verificada: True\n",
      "Desafio: 469f26f7734b99280f23fc2e0bf583f1\n",
      "Resposta esperada: 5c3555f7eba54987fe09cc3bcb04b41f61aadcf17c865e873921670e15cb747d\n",
      "Autenticação bem sucedida\n"
     ]
    }
   ],
   "source": [
    "def main():\n",
    "    # Criar uma instância da classe EdCDSA com a curva edwards25519\n",
    "    edcdsa = EdCDSA(curve=\"edwards25519\")\n",
    "\n",
    "    # Testar a assinatura e verificação\n",
    "    message = b\"Hello world!\"\n",
    "    signature = edcdsa.sign(message)\n",
    "    verified = edcdsa.verify(message, signature)\n",
    "    print(\"Assinatura verificada:\", verified)\n",
    "\n",
    "    # Testar a autenticação de desafio-resposta\n",
    "    challenge = os.urandom(16)  # gerar um desafio aleatório\n",
    "    response = hashlib.sha256(challenge + edcdsa.public_key.public_bytes(Encoding.Raw, PublicFormat.Raw)).digest()\n",
    "\n",
    "    print(\"Desafio:\", challenge.hex())\n",
    "    print(\"Resposta esperada:\", response.hex())\n",
    "\n",
    "    # Executar a autenticação de desafio-resposta\n",
    "    edcdsa.challenge_response_authentication(challenge)\n",
    "\n",
    "\n",
    "if __name__ == \"__main__\":\n",
    "    main()\n"
   ]
  }
 ],
 "metadata": {
  "kernelspec": {
   "display_name": "SageMath 9.8",
   "language": "sage",
   "name": "sagemath"
  },
  "language_info": {
   "codemirror_mode": {
    "name": "ipython",
    "version": 3
   },
   "file_extension": ".py",
   "mimetype": "text/x-python",
   "name": "python",
   "nbconvert_exporter": "python",
   "pygments_lexer": "ipython3",
   "version": "3.10.9"
  }
 },
 "nbformat": 4,
 "nbformat_minor": 5
}
