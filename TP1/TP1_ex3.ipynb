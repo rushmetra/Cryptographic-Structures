{
 "cells": [
  {
   "cell_type": "markdown",
   "id": "ddf3a512",
   "metadata": {},
   "source": [
    "## Trabalho Prático 1\n",
    "Grupo 13, constituído por:  \n",
    "-- Rui Monteiro, PG50739\n",
    "-- Rodrigo Rodrigues, PG50726\n",
    "\n",
    "\n",
    "3. Use o “package” **Cryptography** para\n",
    "    1. Implementar uma AEAD com “Tweakable Block Ciphers” conforme está descrito na última secção do texto +Capítulo 1: Primitivas Criptográficas Básicas.  A cifra por blocos primitiva, usada para gerar a “tweakable block cipher”, é o AES-256 ou o ChaCha20.\n",
    "    2. Use esta cifra para construir um canal privado de informação assíncrona com acordo de chaves feito com “X448 key exchange” e “Ed448 Signing&Verification” para autenticação  dos agentes. Deve incluir uma fase de confirmação da chave acordada.\n"
   ]
  },
  {
   "cell_type": "markdown",
   "id": "3197d838",
   "metadata": {},
   "source": [
    "## Implementação\n",
    "Este código implementa uma classe SecureChannel que oferece um canal de comunicação seguro entre dois agentes usando criptografia de chave pública e simétrica."
   ]
  },
  {
   "cell_type": "markdown",
   "id": "6481a4f0",
   "metadata": {},
   "source": [
    "## Imports\n",
    "O código importa vários módulos do pacote cryptography para lidar com funções de criptografia e hash."
   ]
  },
  {
   "cell_type": "code",
   "execution_count": 1,
   "id": "717ef8ec",
   "metadata": {},
   "outputs": [],
   "source": [
    "from cryptography.hazmat.primitives.ciphers import Cipher, algorithms, modes\n",
    "from cryptography.hazmat.primitives.ciphers.aead import AESGCM, ChaCha20Poly1305\n",
    "from cryptography.hazmat.primitives.kdf.hkdf import HKDF\n",
    "from cryptography.hazmat.primitives import hashes\n",
    "from cryptography.hazmat.primitives.asymmetric import x448, ed25519\n",
    "from cryptography.exceptions import InvalidSignature\n",
    "from cryptography.hazmat.primitives import serialization\n",
    "from cryptography.hazmat.primitives.ciphers.aead import AESCCM"
   ]
  },
  {
   "cell_type": "markdown",
   "id": "67bea7bf",
   "metadata": {},
   "source": [
    "## Tweakable AEAD "
   ]
  },
  {
   "cell_type": "markdown",
   "id": "d67a618b",
   "metadata": {},
   "source": [
    "A classe TweakableAEAD é responsável por cifrar e decifrar as mensagens usando as cifras simétricas AES-GCM ou ChaCha20Poly1305, dependendo do tamanho da chave fornecida (16, 24 ou 32 bytes). Ela gera um nonce aleatório e usa o HKDF (HMAC-based Extract-and-Expand Key Derivation Function) para derivar um tweak a partir do nonce e da chave simétrica. O tweak é usado para inicializar a cifra simétrica e garantir que o mesmo nonce nunca seja usado duas vezes."
   ]
  },
  {
   "cell_type": "code",
   "execution_count": 2,
   "id": "026742e2",
   "metadata": {},
   "outputs": [],
   "source": [
    "class TweakableAEAD:\n",
    "    def __init__(self, key, tweak_size=16):\n",
    "        if len(key) not in [16, 24, 32]:\n",
    "            raise ValueError(\"Key must be 128, 192, or 256 bits long\")\n",
    "        self.key = key\n",
    "        self.tweak_size = tweak_size\n",
    "    \n",
    "    def encrypt(self, plaintext, associated_data):\n",
    "        # Gerar o tweak a partir do nonce\n",
    "        nonce = os.urandom(12)\n",
    "        hkdf = HKDF(\n",
    "            algorithm=hashes.SHA256(),\n",
    "            length=self.tweak_size,\n",
    "            salt=None,\n",
    "            info=nonce,\n",
    "        )\n",
    "        tweak = hkdf.derive(self.key)\n",
    "        \n",
    "        # Selecionar a cifra primitiva de bloco e o modo de operação\n",
    "        if len(self.key) == 16:\n",
    "            cipher = Cipher(algorithms.AES(self.key), modes.CTR(tweak))\n",
    "        else:\n",
    "            cipher = Cipher(algorithms.ChaCha20(self.key, tweak), mode=None)\n",
    "        \n",
    "        # Criar a AEAD\n",
    "        aead = AESGCM(self.key) if len(self.key) == 16 else ChaCha20Poly1305(self.key)\n",
    "        \n",
    "        # Criptografar a mensagem\n",
    "        ciphertext = aead.encrypt(nonce, plaintext, associated_data)\n",
    "        \n",
    "        # Retornar a mensagem criptografada com o nonce anexado\n",
    "        return nonce + ciphertext\n",
    "    \n",
    "    def decrypt(self, ciphertext, associated_data):\n",
    "        # Separar o nonce da mensagem criptografada\n",
    "        nonce = ciphertext[:12]\n",
    "        ciphertext = ciphertext[12:]\n",
    "        \n",
    "        # Gerar o tweak a partir do nonce\n",
    "        hkdf = HKDF(\n",
    "            algorithm=hashes.SHA256(),\n",
    "            length=self.tweak_size,\n",
    "            salt=None,\n",
    "            info=nonce,\n",
    "        )\n",
    "        tweak = hkdf.derive(self.key)\n",
    "        \n",
    "        # Selecionar a cifra primitiva de bloco e o modo de operação\n",
    "        if len(self.key) == 16:\n",
    "            cipher = Cipher(algorithms.AES(self.key), modes.CTR(tweak))\n",
    "        else:\n",
    "            cipher = Cipher(algorithms.ChaCha20(self.key, tweak), mode=None)\n",
    "        \n",
    "        # Criar a AEAD\n",
    "        aead = AESGCM(self.key) if len(self.key) == 16 else ChaCha20Poly1305(self.key)\n",
    "        \n",
    "        # Descriptografar a mensagem\n",
    "        plaintext = aead.decrypt(nonce, ciphertext, associated_data)\n",
    "        \n",
    "        # Retornar a mensagem descriptografada\n",
    "        return plaintext"
   ]
  },
  {
   "cell_type": "markdown",
   "id": "ec39f851",
   "metadata": {},
   "source": [
    "### SecureChannel\n",
    "A classe SecureChannel utiliza a classe TweakableAEAD para cifrar e decifrar as mensagens trocadas pelos agentes."
   ]
  },
  {
   "cell_type": "markdown",
   "id": "8319dae7",
   "metadata": {},
   "source": [
    "A classe SecureChannel implementa o protocolo de troca de chaves de Diffie-Hellman (DH) com a curva X448. O agente 1 gera uma chave privada X448, envia sua chave pública X448 para o agente 2 e recebe a chave pública X448 do agente 2. O agente 2 gera uma chave privada X448, gera sua chave pública X448 e compartilha com o agente 1. Ambos os agentes usam o HKDF para derivar as chaves de criptografia e autenticação. O agente 2 também assina a chave compartilhada usando a curva de assinatura digital Ed25519 e envia sua chave pública X448 e a assinatura para o agente 1. O agente 1 verifica a assinatura e finaliza o processo de troca de chaves.\n",
    "\n",
    "O canal de comunicação é considerado seguro se o processo de troca de chaves for bem-sucedido e as mensagens trocadas pelos agentes estiverem criptografadas e autenticadas corretamente. \n"
   ]
  },
  {
   "cell_type": "code",
   "execution_count": 3,
   "id": "2f65f7c1",
   "metadata": {},
   "outputs": [],
   "source": [
    "class SecureChannel:\n",
    "    def __init__(self):\n",
    "        self.agent1_x448_private_key = x448.X448PrivateKey.generate()\n",
    "        self.tweakable_aead = None\n",
    "\n",
    "    def initiate_key_exchange(self):\n",
    "        # Agente 1 gera a chave pública X448 e envia para o agente 2\n",
    "        agent1_x448_public_key = self.agent1_x448_private_key.public_key()\n",
    "        return agent1_x448_public_key.public_bytes(\n",
    "            encoding=serialization.Encoding.Raw,\n",
    "            format=serialization.PublicFormat.Raw\n",
    "        )\n",
    "\n",
    "    def complete_key_exchange(self, agent1_x448_public_key_bytes):\n",
    "        # Agente 2 recebe a chave pública X448 do agente 1 e gera a chave pública X448 dele mesmo\n",
    "        agent1_x448_public_key = x448.X448PublicKey.from_public_bytes(agent1_x448_public_key_bytes)\n",
    "        agent2_x448_private_key = x448.X448PrivateKey.generate()\n",
    "        agent2_x448_public_key = agent2_x448_private_key.public_key()\n",
    "\n",
    "        # Agente 2 gera a chave secreta compartilhada a partir da chave pública do agente 1 e da chave privada dele mesmo\n",
    "        shared_secret = agent2_x448_private_key.exchange(agent1_x448_public_key)\n",
    "\n",
    "        # Ambos os agentes usam HKDF para derivar as chaves de criptografia e autenticação\n",
    "        hkdf = HKDF(\n",
    "            algorithm=hashes.SHA256(),\n",
    "            length=64,\n",
    "            salt=None,\n",
    "            info=b'secure_channel')\n",
    "        \n",
    "        key_material = hkdf.derive(shared_secret)\n",
    "        encryption_key = key_material[:32]\n",
    "        authentication_key = key_material[32:]\n",
    "\n",
    "        # Agente 2 inicia o processo de assinatura digital da chave compartilhada\n",
    "        agent2_private_key = ed25519.Ed25519PrivateKey.generate()\n",
    "        agent2_signature = agent2_private_key.sign(shared_secret)\n",
    "\n",
    "        # Agente 2 envia sua chave pública X448 e sua assinatura para o agente 1\n",
    "        return (\n",
    "            agent2_x448_public_key.public_bytes(\n",
    "                encoding=serialization.Encoding.Raw,\n",
    "                format=serialization.PublicFormat.Raw\n",
    "            ),\n",
    "            agent2_signature\n",
    "        )\n",
    "\n",
    "    def verify_and_finalize_key_exchange(self, agent2_x448_public_key_bytes, agent2_signature):\n",
    "        # Agente 1 recebe a chave pública X448 e a assinatura do agente 2 e verifica a assinatura\n",
    "        agent2_public_key = x448.X448PublicKey.from_public_bytes(agent2_x448_public_key_bytes)\n",
    "        shared_secret = self.agent1_x448_private_key.exchange(agent2_public_key)\n",
    "\n",
    "        # Ambos os agentes usam HKDF para derivar as chaves de criptografia e autenticação\n",
    "        hkdf = HKDF(\n",
    "            algorithm=hashes.SHA256(),\n",
    "            length=64,\n",
    "            salt=None,\n",
    "            info=b'handshake data',)\n",
    "        key_material = hkdf.derive(shared_secret)\n",
    "        encryption_key = key_material[:32]\n",
    "        authentication_key = key_material[32:]\n",
    "\n",
    "        # Cria o objeto AEAD usando a cifra AES-CCM e as chaves de criptografia e autenticação\n",
    "        self.tweakable_aead = AESCCM(\n",
    "            key=encryption_key,\n",
    "            tag_length=16,\n",
    "        )\n",
    "\n",
    "\n",
    "\n",
    "    def send_message(self, message):\n",
    "        # Cifra a mensagem usando a cifra AEAD e adiciona um tweak único\n",
    "        nonce = b'\\x00' * 13\n",
    "        tweak = b'\\x00' * 16\n",
    "        ciphertext = self.tweakable_aead.encrypt(nonce, message, tweak)\n",
    "\n",
    "        # Retorna a mensagem cifrada junto com o tweak\n",
    "        return ciphertext + tweak\n",
    "\n",
    "    def receive_message(self, ciphertext_with_tweak):\n",
    "        # Divide a mensagem cifrada em ciphertext e tweak\n",
    "        ciphertext = ciphertext_with_tweak[:-16]\n",
    "        tweak = ciphertext_with_tweak[-16:]\n",
    "\n",
    "        # Decifra a mensagem usando a cifra AEAD e o tweak\n",
    "        nonce = b'\\x00' * 13\n",
    "        message = self.tweakable_aead.decrypt(nonce, ciphertext, tweak)\n",
    "\n",
    "        # Retorna a mensagem decifrada\n",
    "        return message\n"
   ]
  },
  {
   "cell_type": "markdown",
   "id": "2544e0f7",
   "metadata": {},
   "source": [
    "## Definir a função principal `main`\n",
    "\n",
    "Envio e receção da mensagem \"Hello, world!\" através do canal privado."
   ]
  },
  {
   "cell_type": "code",
   "execution_count": 4,
   "id": "cdfd71ab",
   "metadata": {},
   "outputs": [
    {
     "name": "stdout",
     "output_type": "stream",
     "text": [
      "Starting secure channel...\n",
      "Agente 1 enviou: 69004bd0cd6087f2f67c95b59fb7085cbdf2ca91c94f43c95f70be1af700000000000000000000000000000000\n",
      "Agente 2 recebeu: Hello, world!\n"
     ]
    }
   ],
   "source": [
    "def main():\n",
    "    print(\"Starting secure channel...\")\n",
    "    secure_channel = SecureChannel()\n",
    "    \n",
    "    # Agente 1 inicia o processo de troca de chaves\n",
    "    agent1_x448_public_key_bytes = secure_channel.initiate_key_exchange()\n",
    "\n",
    "    # Agente 2 completa o processo de troca de chaves e envia sua assinatura\n",
    "    agent2_x448_public_key_bytes, agent2_signature = secure_channel.complete_key_exchange(agent1_x448_public_key_bytes)\n",
    "\n",
    "    # Agente 1 verifica a assinatura e finaliza o processo de troca de chaves\n",
    "    secure_channel.verify_and_finalize_key_exchange(agent2_x448_public_key_bytes, agent2_signature)\n",
    "\n",
    "    # Agente 1 envia uma mensagem cifrada para o agente 2\n",
    "    message = b'Hello, world!'\n",
    "    ciphertext_with_tweak = secure_channel.send_message(message)\n",
    "    print(f'Agente 1 enviou: {ciphertext_with_tweak.hex()}')\n",
    "\n",
    "    # Agente 2 recebe e decifra a mensagem do agente 1\n",
    "    decrypted_message = secure_channel.receive_message(ciphertext_with_tweak)\n",
    "    print(f'Agente 2 recebeu: {decrypted_message.decode()}')\n",
    "\n",
    "main()"
   ]
  }
 ],
 "metadata": {
  "kernelspec": {
   "display_name": "Python 3 (ipykernel)",
   "language": "python",
   "name": "python3"
  },
  "language_info": {
   "codemirror_mode": {
    "name": "ipython",
    "version": 3
   },
   "file_extension": ".py",
   "mimetype": "text/x-python",
   "name": "python",
   "nbconvert_exporter": "python",
   "pygments_lexer": "ipython3",
   "version": "3.9.13"
  }
 },
 "nbformat": 4,
 "nbformat_minor": 5
}
