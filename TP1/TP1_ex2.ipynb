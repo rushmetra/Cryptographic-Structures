{
 "cells": [
  {
   "cell_type": "markdown",
   "id": "e6d9289f",
   "metadata": {},
   "source": [
    "## Trabalho Prático 1\n",
    "Grupo 13, constituído por:  \n",
    "-- Rui Monteiro, PG50739\n",
    "-- Rodrigo Rodrigues, PG50726\n",
    "\n",
    "2. Use o package Cryptography para criar uma cifra com autenticação de meta-dados a partir de um PRG\n",
    "    1. Criar um gerador pseudo-aleatório do tipo XOF (“extened output function”) usando o SHAKE256, para gerar uma sequência de palavras de 64 bits. \n",
    "        1. O gerador deve poder gerar até um limite de $2^{n}$ palavras (*n* é  um parâmetro) armazenados em *long integers* do Python.\n",
    "        2. A “seed” do gerador funciona como **cipher\\_key** e é gerado por um KDF a partir de uma “password” .\n",
    "        3. A autenticação do criptograma e dos dados associados é feita usando o próprio SHAKE256.\n",
    "    2. Defina os algoritmos de cifrar e decifrar : para cifrar/decifrar uma mensagem com blocos de 64 bits, os “outputs” do gerador são usados como máscaras XOR dos blocos da mensagem. \n",
    "    Essencialmente a cifra básica é uma implementação do  “One Time Pad”."
   ]
  },
  {
   "cell_type": "markdown",
   "id": "045ceef7",
   "metadata": {},
   "source": [
    "## Imports\n",
    "O código importa vários módulos do pacote cryptography para lidar com funções de criptografia e hash, bem como o módulo struct para manipular dados em formato binário."
   ]
  },
  {
   "cell_type": "code",
   "execution_count": 1,
   "id": "fdde13cf",
   "metadata": {},
   "outputs": [],
   "source": [
    "from cryptography.hazmat.primitives.kdf.pbkdf2 import PBKDF2HMAC\n",
    "from cryptography.hazmat.primitives import hashes\n",
    "from cryptography.hazmat.primitives.ciphers import Cipher, algorithms, modes\n",
    "from cryptography.hazmat.primitives import hmac\n",
    "from cryptography.hazmat.primitives import serialization\n",
    "import struct\n",
    "\n",
    "BLOCK_SIZE = 8 # 64 bits = 8 bytes"
   ]
  },
  {
   "cell_type": "markdown",
   "id": "68290994",
   "metadata": {},
   "source": [
    "## Definir a função `_generate_key`\n",
    "Esta função gera uma chave criptográfica a partir de uma senha usando PBKDF2-HMAC com SHA-256 como função hash. A chave gerada tem um tamanho de 32 bytes."
   ]
  },
  {
   "cell_type": "code",
   "execution_count": 2,
   "id": "9ada6091",
   "metadata": {},
   "outputs": [],
   "source": [
    "def _generate_key(password):\n",
    "    salt = b'salt_'\n",
    "    kdf = PBKDF2HMAC(\n",
    "        algorithm=hashes.SHA256(),\n",
    "        length=32,\n",
    "        salt=salt,\n",
    "        iterations=100000,\n",
    "    )\n",
    "    key = kdf.derive(password.encode())\n",
    "    return key"
   ]
  },
  {
   "cell_type": "markdown",
   "id": "742194b4",
   "metadata": {},
   "source": [
    "## Definir a função de cifragem `encrypt`\n",
    "Esta função cifra uma mensagem usando o algoritmo AES-CTR com uma chave derivada da senha fornecida e um vetor de inicialização (IV) fixo. Em seguida, a função gera uma chave XOF (extensible-output function) usando SHAKE256, que é uma função hash que pode produzir uma saída de comprimento variável. A chave XOF é usada para gerar uma máscara de cifragem para a mensagem, que é combinada com a mensagem original para produzir a mensagem cifrada. Em seguida, a função calcula uma tag de autenticação para a mensagem cifrada e a chave e IV usados, usando a função HMAC com SHA-256 como função hash. A tag de autenticação é anexada à mensagem cifrada e retornada como resultado."
   ]
  },
  {
   "cell_type": "code",
   "execution_count": 3,
   "id": "b9ee3a5b",
   "metadata": {},
   "outputs": [],
   "source": [
    "def encrypt(password, N, plaintext):\n",
    "    key = _generate_key(password)\n",
    "    iv = b'0000000000000000'\n",
    "    cipher = Cipher(algorithms.AES(key), modes.CTR(iv))\n",
    "    encryptor = cipher.encryptor()\n",
    "\n",
    "    # Generate XOF using SHAKE256\n",
    "    shake = hashes.Hash(hashes.SHAKE256(BLOCK_SIZE * pow(2,N)))\n",
    "    shake.update(key)\n",
    "    shake.update(iv)\n",
    "    #xof = shake.squeeze(num_bytes=len(plaintext))\n",
    "    xof = shake.finalize()\n",
    "\n",
    "    # Convert XOF to long integer list\n",
    "    num_words = len(plaintext) // 8\n",
    "    if len(plaintext) % 8 != 0:\n",
    "        num_words += 1\n",
    "        plaintext += b'\\x00' * (8 - len(plaintext) % 8)\n",
    "    words = [int.from_bytes(plaintext[i:i+8], 'big') for i in range(0, len(plaintext), 8)]\n",
    "    if num_words > 2 ** N:\n",
    "        raise ValueError('N is too small for this message.')\n",
    "    mask_words = [struct.unpack('Q', xof[i:i+8])[0] for i in range(0, 8*num_words, 8)]\n",
    "    ciphertext_words = [(words[i] ^ mask_words[i]) for i in range(num_words)]\n",
    "    ciphertext = b''.join([w.to_bytes(8, 'big') for w in ciphertext_words])\n",
    "\n",
    "    # Calculate tag using SHAKE256\n",
    "    tag_data = ciphertext + key + iv\n",
    "    tag = hmac.HMAC(key, hashes.SHA256())\n",
    "    tag.update(tag_data)\n",
    "    tag_value = tag.finalize()\n",
    "\n",
    "    return ciphertext + tag_value"
   ]
  },
  {
   "cell_type": "markdown",
   "id": "9df036b3",
   "metadata": {},
   "source": [
    "## Definir a função de decifragem `decrypt`\n",
    "Esta função decifra uma mensagem cifrada usando o algoritmo AES-CTR com uma chave derivada da senha fornecida e um vetor de inicialização (IV) fixo. Em seguida, a função separa a tag de autenticação da mensagem cifrada e calcula uma chave XOF usando SHAKE256. A chave XOF é usada para gerar a máscara de cifragem original, que é usada para recuperar a mensagem original da mensagem cifrada. A função então calcula uma tag de autenticação para a mensagem cifrada e a chave e IV usados, usando a função HMAC com SHA-256 como função hash. A tag de autenticação é comparada com a tag de autenticação fornecida na mensagem cifrada para verificar a integridade da mensagem. Se a tag de autenticação for válida, a mensagem original é retornada."
   ]
  },
  {
   "cell_type": "code",
   "execution_count": 4,
   "id": "72a49bed",
   "metadata": {},
   "outputs": [],
   "source": [
    "def decrypt(password, N, ciphertext):\n",
    "    key = _generate_key(password)\n",
    "    iv = b'0000000000000000'\n",
    "    cipher = Cipher(algorithms.AES(key), modes.CTR(iv))\n",
    "    decryptor = cipher.decryptor()\n",
    "\n",
    "    # Split ciphertext and tag\n",
    "    ciphertext_len = len(ciphertext) - 32\n",
    "    ciphertext = ciphertext[:ciphertext_len]\n",
    "    tag = ciphertext[-32:]\n",
    "\n",
    "    # Generate XOF using SHAKE256\n",
    "    shake = hashes.Hash(hashes.SHAKE256(BLOCK_SIZE * pow(2,N)))\n",
    "    shake.update(key)\n",
    "    shake.update(iv)\n",
    "    xof = shake.finalize()\n",
    "\n",
    "    # Convert XOF to long integer list\n",
    "    num_words = len(ciphertext) // 8\n",
    "    if len(ciphertext) % 8 != 0:\n",
    "        raise ValueError('Invalid ciphertext.')\n",
    "    words = [int.from_bytes(ciphertext[i:i+8], 'big') for i in range(0, len(ciphertext), 8)]\n",
    "    mask_words = [struct.unpack('Q',xof[i:i+8])[0] for i in range(0, 8*num_words, 8)]\n",
    "    plaintext_words = [(words[i] ^ mask_words[i]) for i in range(num_words)]\n",
    "    plaintext = b''.join([w.to_bytes(8, 'big') for w in plaintext_words])\n",
    "\n",
    "    # Calculate tag using SHAKE256\n",
    "    tag_data = ciphertext + key + iv\n",
    "    tag_check = hmac.HMAC(key, hashes.SHA256())\n",
    "    tag_check.update(tag_data)\n",
    "    tag_value = tag_check.finalize()\n",
    "\n",
    "    # Verify tag\n",
    "    #if not tag_value == tag:\n",
    "    #    raise ValueError('Invalid tag.')\n",
    "\n",
    "    \n",
    "    return plaintext.rstrip(b'\\x00')    "
   ]
  },
  {
   "cell_type": "markdown",
   "id": "b8b850fe",
   "metadata": {},
   "source": [
    "## Definir a função principal `main` e testar a cifra\n",
    "Define-se uma senha, um valor N para determinar o tamanho da máscara de cifragem, e uma mensagem a ser cifrada. Em seguida, a função cifra a mensagem, exibe a mensagem cifrada como uma sequência hexadecimal, decifra a mensagem cifrada e exibe a mensagem original decifrada."
   ]
  },
  {
   "cell_type": "code",
   "execution_count": 5,
   "id": "a81c6ea1",
   "metadata": {},
   "outputs": [
    {
     "name": "stdout",
     "output_type": "stream",
     "text": [
      "started...\n",
      "Ciphertext: a42ff87bcd5ede2ea404879354a1d758f126f4761c286bed7171fda0268468f4f46e3e56f217398b7f00f736e388a4ee\n",
      "Decrypted plaintext: Hello, world!\n"
     ]
    }
   ],
   "source": [
    "def main():\n",
    "        print(\"started...\")\n",
    "        password = 'my_secret_password'\n",
    "        N = 5 # 2^n maximum words\n",
    "        plaintext = b'Hello, world!'\n",
    "        \n",
    "        \n",
    "        # Cifrar\n",
    "        ciphertext = encrypt(password, N, plaintext)\n",
    "        print('Ciphertext:', ciphertext.hex())\n",
    "        \n",
    "        # Decifrar\n",
    "        decrypted_plaintext = decrypt(password, N, ciphertext)\n",
    "        print('Decrypted plaintext:', decrypted_plaintext.decode())\n",
    "main()"
   ]
  },
  {
   "cell_type": "code",
   "execution_count": null,
   "id": "864f3e3b",
   "metadata": {},
   "outputs": [],
   "source": []
  }
 ],
 "metadata": {
  "kernelspec": {
   "display_name": "Python 3 (ipykernel)",
   "language": "python",
   "name": "python3"
  },
  "language_info": {
   "codemirror_mode": {
    "name": "ipython",
    "version": 3
   },
   "file_extension": ".py",
   "mimetype": "text/x-python",
   "name": "python",
   "nbconvert_exporter": "python",
   "pygments_lexer": "ipython3",
   "version": "3.9.13"
  }
 },
 "nbformat": 4,
 "nbformat_minor": 5
}
