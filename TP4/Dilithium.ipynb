{
 "cells": [
  {
   "cell_type": "markdown",
   "id": "1ab3c636",
   "metadata": {},
   "source": [
    "# Estruturas Criptográficas: Trabalho Prático 4  \n",
    "\n",
    "#### Grupo 13, constituído por:   \n",
    "  -- Rodrigo Rodrigues, PG50726\\\n",
    "  -- Rui Guilherme Monteiro, PG50739  "
   ]
  },
  {
   "cell_type": "markdown",
   "id": "4c4328e0",
   "metadata": {},
   "source": [
    "## Dilithium"
   ]
  },
  {
   "cell_type": "markdown",
   "id": "a76457fa",
   "metadata": {},
   "source": [
    "#### Referências:  \n",
    "\n",
    "https://pq-crystals.org/dilithium/data/dilithium-specification-round3-20210208.pdf  \n",
    "https://eprint.iacr.org/2017/633.pdf  "
   ]
  },
  {
   "cell_type": "markdown",
   "id": "d211958e",
   "metadata": {},
   "source": [
    "### Imports"
   ]
  },
  {
   "cell_type": "code",
   "execution_count": 1,
   "id": "cdfd3f5d",
   "metadata": {},
   "outputs": [],
   "source": [
    "from sage.all import *\n",
    "from cryptography.hazmat.primitives import hashes"
   ]
  },
  {
   "cell_type": "markdown",
   "id": "34c88c03",
   "metadata": {},
   "source": [
    "### Definir vários modos de instânciação, com diferentes níveis de segurança nos parâmetros propostos."
   ]
  },
  {
   "cell_type": "code",
   "execution_count": 2,
   "id": "2b6a5cfd",
   "metadata": {},
   "outputs": [],
   "source": [
    "class Weak:\n",
    "    k = 3\n",
    "    l = 2\n",
    "    eta = 7\n",
    "    beta = 375\n",
    "    omega = 64\n",
    "\n",
    "class Medium:\n",
    "    k = 4\n",
    "    l = 3\n",
    "    eta = 6\n",
    "    beta = 325\n",
    "    omega = 80\n",
    "\n",
    "class Recommended:\n",
    "    k = 5\n",
    "    l = 4\n",
    "    eta = 5\n",
    "    beta = 275\n",
    "    omega = 96\n",
    "\n",
    "class VeryHigh:\n",
    "    k = 6\n",
    "    l = 5\n",
    "    eta = 3\n",
    "    beta = 175\n",
    "    omega = 120"
   ]
  },
  {
   "cell_type": "markdown",
   "id": "9c3a030f",
   "metadata": {},
   "source": [
    "### Definir o algoritmo\n",
    "O algoritmo assenta em três passos principais:\n",
    "\n",
    "1. Geração das chaves (pública e privada) na instanciação do algoritmo.  \n",
    "2. sign()  \n",
    "3. verify()  "
   ]
  },
  {
   "cell_type": "code",
   "execution_count": 3,
   "id": "753b930d",
   "metadata": {},
   "outputs": [],
   "source": [
    "class Dilithium:\n",
    "    def __init__(self, params=Recommended):\n",
    "        self.n = 256\n",
    "        self.q = 8380417\n",
    "        self.d = 14\n",
    "        self.weight = 60\n",
    "        self.gamma1 = 523776    # (self.q-1) / 16\n",
    "        self.gamma2 = 261888    # self.gamma1 / 2\n",
    "        self.k = params.k\n",
    "        self.l = params.l\n",
    "        self.eta = params.eta\n",
    "        self.beta = params.beta\n",
    "        self.omega = params.omega\n",
    "\n",
    "        # Define Fields\n",
    "        Zq.<x> = GF(self.q)[]\n",
    "        self.Rq = Zq.quotient(x^self.n+1)\n",
    "\n",
    "        # Gerar as chaves\n",
    "        self.A = self.expandA()\n",
    "        self.s1 = self.generate_random_vector(self.eta, self.l)\n",
    "        self.s2 = self.generate_random_vector(self.eta, self.k)\n",
    "        self.t = self.A * self.s1 + self.s2\n",
    "        # Public Key : A, t\n",
    "        # Private Key : s1, s2\n",
    "\n",
    "\n",
    "    def sign(self, m):\n",
    "        \"\"\"\n",
    "            Assinar uma mensagem m, em bytes.\n",
    "        \"\"\"\n",
    "\n",
    "        z = None\n",
    "        while z == None:\n",
    "            # começar o processo de gerar 'z':\n",
    "            y = self.generate_random_vector(self.gamma1-1, self.l)\n",
    "            # Ay é reutilizado por isso precalcula-se\n",
    "            Ay = self.A * y\n",
    "            # high bits\n",
    "            w1 = self.get_high_order_bits(self.A * y, 2 * self.gamma2)\n",
    "            # calcular o hash\n",
    "            c = self._hash(b\"\".join([bytes([ int(i) for i in e ]) for e in w1]) + m)\n",
    "            # calcular o polinómio\n",
    "            c_poly = self.Rq(c)\n",
    "\n",
    "            # calcular o 'z'\n",
    "            z = y + c_poly * self.s1\n",
    "\n",
    "            # verificar as condições\n",
    "            if (self.sup_norm(z) >= self.gamma1 - self.beta) and (self.sup_norm([self.get_low_order_bits(Ay-c_poly*self.s2, 2*self.gamma2)]) >= self.gamma2 - self.beta):\n",
    "                # é necessário calcular novo 'z'\n",
    "                z = None\n",
    "    \n",
    "        return (z,c)\n",
    "\n",
    "    def verify(self, m, sig):\n",
    "        \"\"\"\n",
    "            Função de verificação de uma mensagem.\n",
    "            \n",
    "            Parâmetros:\n",
    "            ----------          \n",
    "            m: mensagem em bytes\n",
    "            \n",
    "            sig: assinatura\n",
    "        \"\"\"\n",
    "        \n",
    "        # assinatura\n",
    "        (z,c) = sig\n",
    "        \n",
    "        # calcular os high bits\n",
    "        w1_ = self.get_high_order_bits(self.A*z - self.Rq(c)*self.t, 2*self.gamma2)\n",
    "        \n",
    "        # calcular condições de verificação\n",
    "        torf1 = (self.sup_norm(z) < self.gamma1-self.beta)\n",
    "        torf2 = (c == self._hash(b\"\".join([bytes([ int(i) for i in e ]) for e in w1_]) + m))\n",
    "\n",
    "        return torf1 and torf2\n",
    "\n",
    "    ########################################### Métodos AUXILIARES ##############################################\n",
    "\n",
    "    \n",
    "    def expandA(self):\n",
    "        \"\"\"\n",
    "            Mapear uma seed ∈ {0, 1}^256 numa matriz A ∈ Rq^k×l\n",
    "        \"\"\"\n",
    "        mat = [ self.Rq.random_element() for _ in range(self.k*self.l) ]\n",
    "        return matrix(self.Rq, self.k, self.l, mat)\n",
    "\n",
    "    def generate_random_vector(self, coef_max, size):\n",
    "        \"\"\"\n",
    "            Gera um vetor aleatório onde cada coeficiente desse vetor é um elemento pertencente a Rq.\n",
    "        \"\"\"\n",
    "        def rand_poly():\n",
    "            return self.Rq([randint(0,coef_max) for _ in range(self.n)])\n",
    "\n",
    "        vector = [ rand_poly() for _ in range(size) ]\n",
    "\n",
    "        return matrix(self.Rq,size,1,vector) # vetor representado sob forma de matriz p/ permitir ops com a matriz A\n",
    "\n",
    "    def get_high_order_bits(self, r, alfa):\n",
    "        \"\"\"\n",
    "            Obter os bits de ordem superior.\n",
    "        \"\"\"\n",
    "        r1, _ = self.extract_bits(r,alfa)\n",
    "        return r1\n",
    "\n",
    "    def get_low_order_bits(self, r, alfa):\n",
    "        \"\"\"\n",
    "            Obter os bits de ordem inferior.\n",
    "        \"\"\"\n",
    "        _, r0 = self.extract_bits(r,alfa)\n",
    "        return r0\n",
    "\n",
    "    def extract_bits(self, r, alfa):\n",
    "        \"\"\"\n",
    "            Extrai bits de higher-order e lower-order de elementos pertencentes a Zq.\n",
    "        \"\"\"\n",
    "        \n",
    "        r0_vector = []\n",
    "        r1_vector = []\n",
    "        torf = True\n",
    "        for p in r:\n",
    "            r0_poly = []\n",
    "            r1_poly = []\n",
    "            for c in p[0]:\n",
    "                c = int(mod(c,int(self.q)))\n",
    "                r0 = int(mod(c,int(alfa)))\n",
    "                if c - r0 == int(self.q) - int(1):\n",
    "                    r1 = 0\n",
    "                    r0 = r0 - 1\n",
    "                else:\n",
    "                    r1 = (c - r0) / int(alfa)\n",
    "                r0_poly.append(r0)\n",
    "                r1_poly.append(r1)\n",
    "            if torf:\n",
    "                torf = False\n",
    "            r0_vector.append(self.Rq(r0_poly))\n",
    "            r1_vector.append(self.Rq(r1_poly))\n",
    "\n",
    "        return (r1_vector, r0_vector)\n",
    "\n",
    "    def _hash(self, obj):\n",
    "        \"\"\"\n",
    "            Função de hash que usa SHAKE256 para construir um array com 256 elementos de -1 a 0.\n",
    "        \"\"\"\n",
    "        sha3 = hashes.Hash(hashes.SHAKE256(int(60)))\n",
    "        sha3.update(obj)\n",
    "        res = [ (-1) ** (b % 2) for b in sha3.finalize() ]\n",
    "        return res + [0]*196\n",
    "\n",
    "    def sup_norm(self, v):\n",
    "        \"\"\"\n",
    "            Uniform norm / \"norma do supremo\" / \"normal uniforme\".\n",
    "            Ref: https://en.wikipedia.org/wiki/Uniform_norm\n",
    "        \"\"\"\n",
    "        return max([ max(p[0]) for p in v])"
   ]
  },
  {
   "cell_type": "markdown",
   "id": "66a505b7",
   "metadata": {},
   "source": [
    "### Testes\n",
    "Para tal, instanciou-se duas classes diferentes, com os mesmmos parâmetros."
   ]
  },
  {
   "cell_type": "code",
   "execution_count": 4,
   "id": "322ce836",
   "metadata": {},
   "outputs": [],
   "source": [
    "dilithium = Dilithium(params=Recommended)\n",
    "dilithium_B = Dilithium(params=Recommended)"
   ]
  },
  {
   "cell_type": "markdown",
   "id": "ca5d54e1",
   "metadata": {},
   "source": [
    "#### Teste 1: Verificar se o esquema valida corretamente uma assinatura."
   ]
  },
  {
   "cell_type": "code",
   "execution_count": 5,
   "id": "acc45654",
   "metadata": {},
   "outputs": [
    {
     "name": "stdout",
     "output_type": "stream",
     "text": [
      "Teste 1:  True\n"
     ]
    }
   ],
   "source": [
    "# Sign\n",
    "signature = dilithium.sign(b\"Mensagem secreta do Grupo 13.\")\n",
    "\n",
    "# Verify\n",
    "print(\"Teste 1: \", dilithium.verify(b\"Mensagem secreta do Grupo 13.\", signature))"
   ]
  },
  {
   "cell_type": "markdown",
   "id": "c06059bc",
   "metadata": {},
   "source": [
    "#### Teste 2: Verificar se o esquema reconhece quando os dados assinados são diferentes."
   ]
  },
  {
   "cell_type": "code",
   "execution_count": 6,
   "id": "6d097e19",
   "metadata": {},
   "outputs": [
    {
     "name": "stdout",
     "output_type": "stream",
     "text": [
      "Teste 2:  False\n"
     ]
    }
   ],
   "source": [
    "# Sign\n",
    "signature = dilithium.sign(b\"Mensagem secreta do Grupo 13.\")\n",
    "\n",
    "# Verify\n",
    "print(\"Teste 2: \", dilithium.verify(b\"Enemy attacks tonight.\", signature))"
   ]
  },
  {
   "cell_type": "markdown",
   "id": "42512efe",
   "metadata": {},
   "source": [
    "#### Teste 3: Verificar se entre instâncias diferentes não existem relações."
   ]
  },
  {
   "cell_type": "code",
   "execution_count": 7,
   "id": "ea7b12cc",
   "metadata": {},
   "outputs": [
    {
     "name": "stdout",
     "output_type": "stream",
     "text": [
      "Teste 3:  False\n"
     ]
    }
   ],
   "source": [
    "# Sign\n",
    "signature = dilithium.sign(b\"Mensagem secreta do Grupo 13.\")\n",
    "\n",
    "# Verify\n",
    "print(\"Teste 3: \", dilithium_B.verify(b\"Mensagem secreta do Grupo 13.\",signature))"
   ]
  }
 ],
 "metadata": {
  "kernelspec": {
   "display_name": "SageMath 9.8",
   "language": "sage",
   "name": "sagemath"
  },
  "language_info": {
   "codemirror_mode": {
    "name": "ipython",
    "version": 3
   },
   "file_extension": ".py",
   "mimetype": "text/x-python",
   "name": "python",
   "nbconvert_exporter": "python",
   "pygments_lexer": "ipython3",
   "version": "3.10.10"
  }
 },
 "nbformat": 4,
 "nbformat_minor": 5
}
